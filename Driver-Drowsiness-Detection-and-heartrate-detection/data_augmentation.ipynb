{
 "cells": [
  {
   "cell_type": "code",
   "execution_count": 2,
   "id": "e641230c",
   "metadata": {},
   "outputs": [],
   "source": [
    "import os\n",
    "import shutil\n",
    "import glob\n",
    "from tqdm import tqdm"
   ]
  },
  {
   "cell_type": "code",
   "execution_count": 5,
   "id": "ad9d71a2",
   "metadata": {},
   "outputs": [
    {
     "name": "stderr",
     "output_type": "stream",
     "text": [
      "0it [00:00, ?it/s]\n",
      "0it [00:00, ?it/s]\n",
      "100%|██████████| 3242/3242 [00:02<00:00, 1298.33it/s]\n",
      "100%|██████████| 1114/1114 [00:00<00:00, 1405.20it/s]\n",
      "100%|██████████| 679/679 [00:00<00:00, 1420.83it/s]\n",
      "100%|██████████| 1069/1069 [00:00<00:00, 1392.09it/s]\n",
      "100%|██████████| 736/736 [00:00<00:00, 1407.04it/s]\n",
      "100%|██████████| 1012/1012 [00:00<00:00, 1423.72it/s]\n",
      "100%|██████████| 624/624 [00:00<00:00, 1293.95it/s]\n",
      "100%|██████████| 832/832 [00:00<00:00, 1523.39it/s]\n",
      "100%|██████████| 387/387 [00:00<00:00, 1361.50it/s]\n",
      "100%|██████████| 399/399 [00:00<00:00, 1070.20it/s]\n",
      "100%|██████████| 1648/1648 [00:01<00:00, 1322.89it/s]\n",
      "100%|██████████| 8728/8728 [00:06<00:00, 1381.29it/s]\n",
      "100%|██████████| 3605/3605 [00:02<00:00, 1468.77it/s]\n",
      "100%|██████████| 8884/8884 [00:07<00:00, 1200.85it/s]\n",
      "100%|██████████| 1132/1132 [00:01<00:00, 1041.74it/s]\n",
      "100%|██████████| 1889/1889 [00:01<00:00, 1384.77it/s]\n",
      "100%|██████████| 1648/1648 [00:01<00:00, 1407.54it/s]\n",
      "100%|██████████| 4410/4410 [00:03<00:00, 1368.17it/s]\n",
      "100%|██████████| 6175/6175 [00:04<00:00, 1382.99it/s]\n",
      "100%|██████████| 704/704 [00:00<00:00, 1491.28it/s]\n",
      "100%|██████████| 987/987 [00:00<00:00, 1264.35it/s]\n",
      "100%|██████████| 382/382 [00:00<00:00, 1448.59it/s]\n",
      "100%|██████████| 522/522 [00:00<00:00, 1193.67it/s]\n",
      "100%|██████████| 752/752 [00:00<00:00, 1429.18it/s]\n",
      "100%|██████████| 1502/1502 [00:01<00:00, 1469.06it/s]\n",
      "100%|██████████| 1246/1246 [00:00<00:00, 1264.20it/s]\n",
      "100%|██████████| 665/665 [00:00<00:00, 1330.04it/s]\n",
      "100%|██████████| 736/736 [00:00<00:00, 1383.36it/s]\n",
      "100%|██████████| 1393/1393 [00:01<00:00, 1155.21it/s]\n",
      "100%|██████████| 1384/1384 [00:00<00:00, 1453.06it/s]\n",
      "100%|██████████| 1738/1738 [00:01<00:00, 1498.88it/s]\n",
      "100%|██████████| 6162/6162 [00:04<00:00, 1424.77it/s]\n",
      "100%|██████████| 681/681 [00:00<00:00, 1389.33it/s]\n",
      "100%|██████████| 739/739 [00:00<00:00, 1438.80it/s]\n",
      "100%|██████████| 642/642 [00:00<00:00, 1488.98it/s]\n",
      "100%|██████████| 6193/6193 [00:04<00:00, 1479.76it/s]\n",
      "100%|██████████| 10257/10257 [00:07<00:00, 1453.08it/s]\n",
      "0it [00:00, ?it/s]\n",
      "  0%|          | 0/41946 [00:00<?, ?it/s]\n"
     ]
    },
    {
     "ename": "SameFileError",
     "evalue": "'C:\\\\Users\\\\rudra\\\\Directrix\\\\drowsyness\\\\mrlEyes_2018_01\\\\prepared data\\\\closed_eyes/s0001_00001_0_0_0_0_0_01.png' and 'C:\\\\Users\\\\rudra\\\\Directrix\\\\drowsyness\\\\mrlEyes_2018_01\\\\prepared data\\\\closed_eyes\\\\s0001_00001_0_0_0_0_0_01.png' are the same file",
     "output_type": "error",
     "traceback": [
      "\u001b[1;31m---------------------------------------------------------------------------\u001b[0m",
      "\u001b[1;31mSameFileError\u001b[0m                             Traceback (most recent call last)",
      "\u001b[1;32m~\\AppData\\Local\\Temp\\ipykernel_18776\\4051423045.py\u001b[0m in \u001b[0;36m<module>\u001b[1;34m\u001b[0m\n\u001b[0;32m      3\u001b[0m     \u001b[1;32mfor\u001b[0m \u001b[0mi\u001b[0m \u001b[1;32min\u001b[0m \u001b[0mtqdm\u001b[0m\u001b[1;33m(\u001b[0m\u001b[1;33m[\u001b[0m\u001b[0mf\u001b[0m \u001b[1;32mfor\u001b[0m \u001b[0mf\u001b[0m \u001b[1;32min\u001b[0m \u001b[0mfilenames\u001b[0m \u001b[1;32mif\u001b[0m \u001b[0mf\u001b[0m\u001b[1;33m.\u001b[0m\u001b[0mendswith\u001b[0m\u001b[1;33m(\u001b[0m\u001b[1;34m'.png'\u001b[0m\u001b[1;33m)\u001b[0m\u001b[1;33m]\u001b[0m\u001b[1;33m)\u001b[0m\u001b[1;33m:\u001b[0m\u001b[1;33m\u001b[0m\u001b[1;33m\u001b[0m\u001b[0m\n\u001b[0;32m      4\u001b[0m         \u001b[1;32mif\u001b[0m \u001b[0mi\u001b[0m\u001b[1;33m.\u001b[0m\u001b[0msplit\u001b[0m\u001b[1;33m(\u001b[0m\u001b[1;34m'_'\u001b[0m\u001b[1;33m)\u001b[0m\u001b[1;33m[\u001b[0m\u001b[1;36m4\u001b[0m\u001b[1;33m]\u001b[0m\u001b[1;33m==\u001b[0m\u001b[1;34m'0'\u001b[0m\u001b[1;33m:\u001b[0m\u001b[1;33m\u001b[0m\u001b[1;33m\u001b[0m\u001b[0m\n\u001b[1;32m----> 5\u001b[1;33m             \u001b[0mshutil\u001b[0m\u001b[1;33m.\u001b[0m\u001b[0mcopy\u001b[0m\u001b[1;33m(\u001b[0m\u001b[0msrc\u001b[0m\u001b[1;33m=\u001b[0m\u001b[0mdirpath\u001b[0m\u001b[1;33m+\u001b[0m\u001b[1;34m'/'\u001b[0m\u001b[1;33m+\u001b[0m\u001b[0mi\u001b[0m\u001b[1;33m,\u001b[0m \u001b[0mdst\u001b[0m\u001b[1;33m=\u001b[0m\u001b[1;34mr'C:\\Users\\rudra\\Directrix\\drowsyness\\mrlEyes_2018_01\\prepared data\\closed_eyes'\u001b[0m\u001b[1;33m)\u001b[0m\u001b[1;33m\u001b[0m\u001b[1;33m\u001b[0m\u001b[0m\n\u001b[0m\u001b[0;32m      6\u001b[0m \u001b[1;33m\u001b[0m\u001b[0m\n\u001b[0;32m      7\u001b[0m         \u001b[1;32melif\u001b[0m \u001b[0mi\u001b[0m\u001b[1;33m.\u001b[0m\u001b[0msplit\u001b[0m\u001b[1;33m(\u001b[0m\u001b[1;34m'_'\u001b[0m\u001b[1;33m)\u001b[0m\u001b[1;33m[\u001b[0m\u001b[1;36m4\u001b[0m\u001b[1;33m]\u001b[0m\u001b[1;33m==\u001b[0m\u001b[1;34m'1'\u001b[0m\u001b[1;33m:\u001b[0m\u001b[1;33m\u001b[0m\u001b[1;33m\u001b[0m\u001b[0m\n",
      "\u001b[1;32m~\\anaconda3\\lib\\shutil.py\u001b[0m in \u001b[0;36mcopy\u001b[1;34m(src, dst, follow_symlinks)\u001b[0m\n\u001b[0;32m    425\u001b[0m     \u001b[1;32mif\u001b[0m \u001b[0mos\u001b[0m\u001b[1;33m.\u001b[0m\u001b[0mpath\u001b[0m\u001b[1;33m.\u001b[0m\u001b[0misdir\u001b[0m\u001b[1;33m(\u001b[0m\u001b[0mdst\u001b[0m\u001b[1;33m)\u001b[0m\u001b[1;33m:\u001b[0m\u001b[1;33m\u001b[0m\u001b[1;33m\u001b[0m\u001b[0m\n\u001b[0;32m    426\u001b[0m         \u001b[0mdst\u001b[0m \u001b[1;33m=\u001b[0m \u001b[0mos\u001b[0m\u001b[1;33m.\u001b[0m\u001b[0mpath\u001b[0m\u001b[1;33m.\u001b[0m\u001b[0mjoin\u001b[0m\u001b[1;33m(\u001b[0m\u001b[0mdst\u001b[0m\u001b[1;33m,\u001b[0m \u001b[0mos\u001b[0m\u001b[1;33m.\u001b[0m\u001b[0mpath\u001b[0m\u001b[1;33m.\u001b[0m\u001b[0mbasename\u001b[0m\u001b[1;33m(\u001b[0m\u001b[0msrc\u001b[0m\u001b[1;33m)\u001b[0m\u001b[1;33m)\u001b[0m\u001b[1;33m\u001b[0m\u001b[1;33m\u001b[0m\u001b[0m\n\u001b[1;32m--> 427\u001b[1;33m     \u001b[0mcopyfile\u001b[0m\u001b[1;33m(\u001b[0m\u001b[0msrc\u001b[0m\u001b[1;33m,\u001b[0m \u001b[0mdst\u001b[0m\u001b[1;33m,\u001b[0m \u001b[0mfollow_symlinks\u001b[0m\u001b[1;33m=\u001b[0m\u001b[0mfollow_symlinks\u001b[0m\u001b[1;33m)\u001b[0m\u001b[1;33m\u001b[0m\u001b[1;33m\u001b[0m\u001b[0m\n\u001b[0m\u001b[0;32m    428\u001b[0m     \u001b[0mcopymode\u001b[0m\u001b[1;33m(\u001b[0m\u001b[0msrc\u001b[0m\u001b[1;33m,\u001b[0m \u001b[0mdst\u001b[0m\u001b[1;33m,\u001b[0m \u001b[0mfollow_symlinks\u001b[0m\u001b[1;33m=\u001b[0m\u001b[0mfollow_symlinks\u001b[0m\u001b[1;33m)\u001b[0m\u001b[1;33m\u001b[0m\u001b[1;33m\u001b[0m\u001b[0m\n\u001b[0;32m    429\u001b[0m     \u001b[1;32mreturn\u001b[0m \u001b[0mdst\u001b[0m\u001b[1;33m\u001b[0m\u001b[1;33m\u001b[0m\u001b[0m\n",
      "\u001b[1;32m~\\anaconda3\\lib\\shutil.py\u001b[0m in \u001b[0;36mcopyfile\u001b[1;34m(src, dst, follow_symlinks)\u001b[0m\n\u001b[0;32m    242\u001b[0m \u001b[1;33m\u001b[0m\u001b[0m\n\u001b[0;32m    243\u001b[0m     \u001b[1;32mif\u001b[0m \u001b[0m_samefile\u001b[0m\u001b[1;33m(\u001b[0m\u001b[0msrc\u001b[0m\u001b[1;33m,\u001b[0m \u001b[0mdst\u001b[0m\u001b[1;33m)\u001b[0m\u001b[1;33m:\u001b[0m\u001b[1;33m\u001b[0m\u001b[1;33m\u001b[0m\u001b[0m\n\u001b[1;32m--> 244\u001b[1;33m         \u001b[1;32mraise\u001b[0m \u001b[0mSameFileError\u001b[0m\u001b[1;33m(\u001b[0m\u001b[1;34m\"{!r} and {!r} are the same file\"\u001b[0m\u001b[1;33m.\u001b[0m\u001b[0mformat\u001b[0m\u001b[1;33m(\u001b[0m\u001b[0msrc\u001b[0m\u001b[1;33m,\u001b[0m \u001b[0mdst\u001b[0m\u001b[1;33m)\u001b[0m\u001b[1;33m)\u001b[0m\u001b[1;33m\u001b[0m\u001b[1;33m\u001b[0m\u001b[0m\n\u001b[0m\u001b[0;32m    245\u001b[0m \u001b[1;33m\u001b[0m\u001b[0m\n\u001b[0;32m    246\u001b[0m     \u001b[0mfile_size\u001b[0m \u001b[1;33m=\u001b[0m \u001b[1;36m0\u001b[0m\u001b[1;33m\u001b[0m\u001b[1;33m\u001b[0m\u001b[0m\n",
      "\u001b[1;31mSameFileError\u001b[0m: 'C:\\\\Users\\\\rudra\\\\Directrix\\\\drowsyness\\\\mrlEyes_2018_01\\\\prepared data\\\\closed_eyes/s0001_00001_0_0_0_0_0_01.png' and 'C:\\\\Users\\\\rudra\\\\Directrix\\\\drowsyness\\\\mrlEyes_2018_01\\\\prepared data\\\\closed_eyes\\\\s0001_00001_0_0_0_0_0_01.png' are the same file"
     ]
    }
   ],
   "source": [
    "Raw_DIR= r'C:\\Users\\rudra\\Directrix\\drowsyness\\mrlEyes_2018_01'\n",
    "for dirpath, dirname, filenames in os.walk(Raw_DIR):\n",
    "    for i in tqdm([f for f in filenames if f.endswith('.png')]):\n",
    "        if i.split('_')[4]=='0':\n",
    "            shutil.copy(src=dirpath+'/'+i, dst=r'C:\\Users\\rudra\\Directrix\\drowsyness\\mrlEyes_2018_01\\prepared data\\closed_eyes')\n",
    "        \n",
    "        elif i.split('_')[4]=='1':\n",
    "            shutil.copy(src=dirpath+'/'+i, dst=r'C:\\Users\\rudra\\Directrix\\drowsyness\\mrlEyes_2018_01\\prepared data\\open_eyes')\n"
   ]
  },
  {
   "cell_type": "code",
   "execution_count": null,
   "id": "08db64c6",
   "metadata": {},
   "outputs": [],
   "source": []
  }
 ],
 "metadata": {
  "kernelspec": {
   "display_name": "Python 3 (ipykernel)",
   "language": "python",
   "name": "python3"
  },
  "language_info": {
   "codemirror_mode": {
    "name": "ipython",
    "version": 3
   },
   "file_extension": ".py",
   "mimetype": "text/x-python",
   "name": "python",
   "nbconvert_exporter": "python",
   "pygments_lexer": "ipython3",
   "version": "3.9.13"
  }
 },
 "nbformat": 4,
 "nbformat_minor": 5
}
